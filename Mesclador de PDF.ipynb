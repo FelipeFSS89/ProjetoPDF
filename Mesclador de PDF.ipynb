{
 "cells": [
  {
   "cell_type": "code",
   "execution_count": null,
   "id": "7d09010d",
   "metadata": {},
   "outputs": [],
   "source": [
    "pip install PyPDF"
   ]
  },
  {
   "cell_type": "code",
   "execution_count": null,
   "id": "d070292a",
   "metadata": {},
   "outputs": [],
   "source": [
    "import PyPDF2 as pdf #Biblioteca onde realizar o merge de páginas PDF\n",
    "from tkinter.filedialog import askopenfilenames, askdirectory, asksaveasfilename\n",
    "from tkinter.messagebox import showerror\n",
    "from tkinter import Tk\n",
    "\n",
    "def merge_pdf():\n",
    "\n",
    "    merge = pdf.PdfMerger()\n",
    "\n",
    "    arquivos = askopenfilenames()\n",
    "\n",
    "    for arquivo in arquivos:\n",
    "        if \".pdf\" in arquivo: \n",
    "            merge.append(arquivo)\n",
    "        else:\n",
    "            showerror(title=\"Erro\", message=\"Um dos arquivos não é um PDF\")\n",
    "\n",
    "    merge.write(f\"{asksaveasfilename()}.pdf\")\n",
    "\n",
    "\n",
    "\n",
    "janela = Tk()\n",
    "janela.title(\"Clique no botão para selecionar os arquivos\")\n",
    "\n",
    "texto_explicacao = Label(janela, text=\"Mesclador de PDF\")\n",
    "texto_explicacao.grid(column=0, row=0, padx=8, pady=8)\n",
    "\n",
    "botao = Button(janela, text=\"Clique para selecionar os arquivos\", command=merge_pdf)\n",
    "botao.grid(column=0, row=1, padx=10, pady=10)\n",
    "\n",
    "janela.mainloop()\n",
    "\n"
   ]
  }
 ],
 "metadata": {
  "kernelspec": {
   "display_name": "Python 3 (ipykernel)",
   "language": "python",
   "name": "python3"
  },
  "language_info": {
   "codemirror_mode": {
    "name": "ipython",
    "version": 3
   },
   "file_extension": ".py",
   "mimetype": "text/x-python",
   "name": "python",
   "nbconvert_exporter": "python",
   "pygments_lexer": "ipython3",
   "version": "3.12.4"
  }
 },
 "nbformat": 4,
 "nbformat_minor": 5
}
